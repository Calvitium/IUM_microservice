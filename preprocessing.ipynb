{
 "cells": [
  {
   "cell_type": "code",
   "execution_count": 175,
   "outputs": [
    {
     "data": {
      "text/plain": "   user_id                   name      city                             street\n0      102    Cyprian Oleksiewicz     Konin                   pl. Zdrojowa 876\n1      103          Kacper Wasiuk     Konin                 aleja Boczna 12/47\n2      104          Maurycy Dziób     Radom  al. Powstańców Wielkopolskich 605\n3      105  Natasza Michalkiewicz    Gdynia                ulica Bankowa 22/96\n4      106            Oskar Rohde  Szczecin       aleja Jana Sobieskiego 62/99",
      "text/html": "<div>\n<style scoped>\n    .dataframe tbody tr th:only-of-type {\n        vertical-align: middle;\n    }\n\n    .dataframe tbody tr th {\n        vertical-align: top;\n    }\n\n    .dataframe thead th {\n        text-align: right;\n    }\n</style>\n<table border=\"1\" class=\"dataframe\">\n  <thead>\n    <tr style=\"text-align: right;\">\n      <th></th>\n      <th>user_id</th>\n      <th>name</th>\n      <th>city</th>\n      <th>street</th>\n    </tr>\n  </thead>\n  <tbody>\n    <tr>\n      <th>0</th>\n      <td>102</td>\n      <td>Cyprian Oleksiewicz</td>\n      <td>Konin</td>\n      <td>pl. Zdrojowa 876</td>\n    </tr>\n    <tr>\n      <th>1</th>\n      <td>103</td>\n      <td>Kacper Wasiuk</td>\n      <td>Konin</td>\n      <td>aleja Boczna 12/47</td>\n    </tr>\n    <tr>\n      <th>2</th>\n      <td>104</td>\n      <td>Maurycy Dziób</td>\n      <td>Radom</td>\n      <td>al. Powstańców Wielkopolskich 605</td>\n    </tr>\n    <tr>\n      <th>3</th>\n      <td>105</td>\n      <td>Natasza Michalkiewicz</td>\n      <td>Gdynia</td>\n      <td>ulica Bankowa 22/96</td>\n    </tr>\n    <tr>\n      <th>4</th>\n      <td>106</td>\n      <td>Oskar Rohde</td>\n      <td>Szczecin</td>\n      <td>aleja Jana Sobieskiego 62/99</td>\n    </tr>\n  </tbody>\n</table>\n</div>"
     },
     "metadata": {},
     "output_type": "execute_result",
     "execution_count": 175
    }
   ],
   "source": [
    "import pandas as pd\n",
    "df = pd.read_csv('./data/users.csv')\n",
    "df.head()"
   ],
   "metadata": {
    "collapsed": false,
    "pycharm": {
     "name": "#%%\n",
     "is_executing": false
    }
   }
  },
  {
   "cell_type": "code",
   "execution_count": 176,
   "outputs": [
    {
     "data": {
      "text/plain": "   user_id      city                             street\n0      102     Konin                   pl. Zdrojowa 876\n1      103     Konin                 aleja Boczna 12/47\n2      104     Radom  al. Powstańców Wielkopolskich 605\n3      105    Gdynia                ulica Bankowa 22/96\n4      106  Szczecin       aleja Jana Sobieskiego 62/99",
      "text/html": "<div>\n<style scoped>\n    .dataframe tbody tr th:only-of-type {\n        vertical-align: middle;\n    }\n\n    .dataframe tbody tr th {\n        vertical-align: top;\n    }\n\n    .dataframe thead th {\n        text-align: right;\n    }\n</style>\n<table border=\"1\" class=\"dataframe\">\n  <thead>\n    <tr style=\"text-align: right;\">\n      <th></th>\n      <th>user_id</th>\n      <th>city</th>\n      <th>street</th>\n    </tr>\n  </thead>\n  <tbody>\n    <tr>\n      <th>0</th>\n      <td>102</td>\n      <td>Konin</td>\n      <td>pl. Zdrojowa 876</td>\n    </tr>\n    <tr>\n      <th>1</th>\n      <td>103</td>\n      <td>Konin</td>\n      <td>aleja Boczna 12/47</td>\n    </tr>\n    <tr>\n      <th>2</th>\n      <td>104</td>\n      <td>Radom</td>\n      <td>al. Powstańców Wielkopolskich 605</td>\n    </tr>\n    <tr>\n      <th>3</th>\n      <td>105</td>\n      <td>Gdynia</td>\n      <td>ulica Bankowa 22/96</td>\n    </tr>\n    <tr>\n      <th>4</th>\n      <td>106</td>\n      <td>Szczecin</td>\n      <td>aleja Jana Sobieskiego 62/99</td>\n    </tr>\n  </tbody>\n</table>\n</div>"
     },
     "metadata": {},
     "output_type": "execute_result",
     "execution_count": 176
    }
   ],
   "source": [
    "df = df.drop(labels=['name'], axis=1)\n",
    "df.head()"
   ],
   "metadata": {
    "collapsed": false,
    "pycharm": {
     "name": "#%%\n",
     "is_executing": false
    }
   }
  },
  {
   "cell_type": "code",
   "execution_count": 177,
   "outputs": [],
   "source": [
    "def preprocess_street(street: str):\n",
    "    split = street.split()\n",
    "    split[0] = split[0][:2] + '.'\n",
    "    split.pop()\n",
    "    return ' '.join(split)\n",
    "\n",
    "df['street'] = df['street'].apply(preprocess_street)\n",
    "df.head()\n",
    "df.to_csv('users_preprocessed.csv', index=False)"
   ],
   "metadata": {
    "collapsed": false,
    "pycharm": {
     "name": "#%%\n",
     "is_executing": false
    }
   }
  },
  {
   "cell_type": "code",
   "execution_count": 178,
   "outputs": [
    {
     "data": {
      "text/plain": "   session_id            timestamp  user_id  product_id    event_type  \\\n0      100001  2021-01-07T08:05:23    102.0      1277.0  VIEW_PRODUCT   \n1      100001  2021-01-07T08:09:16    102.0      1276.0  VIEW_PRODUCT   \n2      100001  2021-01-07T08:13:32    102.0      1276.0   BUY_PRODUCT   \n3      100002  2021-01-02T02:02:07    102.0      1049.0  VIEW_PRODUCT   \n4      100002  2021-01-02T02:04:41    102.0      1050.0  VIEW_PRODUCT   \n\n   offered_discount  purchase_id  \n0                 0          NaN  \n1                 0          NaN  \n2                 0      20001.0  \n3                 0          NaN  \n4                 0          NaN  ",
      "text/html": "<div>\n<style scoped>\n    .dataframe tbody tr th:only-of-type {\n        vertical-align: middle;\n    }\n\n    .dataframe tbody tr th {\n        vertical-align: top;\n    }\n\n    .dataframe thead th {\n        text-align: right;\n    }\n</style>\n<table border=\"1\" class=\"dataframe\">\n  <thead>\n    <tr style=\"text-align: right;\">\n      <th></th>\n      <th>session_id</th>\n      <th>timestamp</th>\n      <th>user_id</th>\n      <th>product_id</th>\n      <th>event_type</th>\n      <th>offered_discount</th>\n      <th>purchase_id</th>\n    </tr>\n  </thead>\n  <tbody>\n    <tr>\n      <th>0</th>\n      <td>100001</td>\n      <td>2021-01-07T08:05:23</td>\n      <td>102.0</td>\n      <td>1277.0</td>\n      <td>VIEW_PRODUCT</td>\n      <td>0</td>\n      <td>NaN</td>\n    </tr>\n    <tr>\n      <th>1</th>\n      <td>100001</td>\n      <td>2021-01-07T08:09:16</td>\n      <td>102.0</td>\n      <td>1276.0</td>\n      <td>VIEW_PRODUCT</td>\n      <td>0</td>\n      <td>NaN</td>\n    </tr>\n    <tr>\n      <th>2</th>\n      <td>100001</td>\n      <td>2021-01-07T08:13:32</td>\n      <td>102.0</td>\n      <td>1276.0</td>\n      <td>BUY_PRODUCT</td>\n      <td>0</td>\n      <td>20001.0</td>\n    </tr>\n    <tr>\n      <th>3</th>\n      <td>100002</td>\n      <td>2021-01-02T02:02:07</td>\n      <td>102.0</td>\n      <td>1049.0</td>\n      <td>VIEW_PRODUCT</td>\n      <td>0</td>\n      <td>NaN</td>\n    </tr>\n    <tr>\n      <th>4</th>\n      <td>100002</td>\n      <td>2021-01-02T02:04:41</td>\n      <td>102.0</td>\n      <td>1050.0</td>\n      <td>VIEW_PRODUCT</td>\n      <td>0</td>\n      <td>NaN</td>\n    </tr>\n  </tbody>\n</table>\n</div>"
     },
     "metadata": {},
     "output_type": "execute_result",
     "execution_count": 178
    }
   ],
   "source": [
    "df = pd.read_csv('./data/sessions.csv')\n",
    "df.head()"
   ],
   "metadata": {
    "collapsed": false,
    "pycharm": {
     "name": "#%%\n",
     "is_executing": false
    }
   }
  },
  {
   "cell_type": "code",
   "execution_count": 179,
   "outputs": [
    {
     "data": {
      "text/plain": "   user_id  product_id    event_type  purchase_id\n0    102.0      1277.0  VIEW_PRODUCT          NaN\n1    102.0      1276.0  VIEW_PRODUCT          NaN\n2    102.0      1276.0   BUY_PRODUCT      20001.0\n3    102.0      1049.0  VIEW_PRODUCT          NaN\n4    102.0      1050.0  VIEW_PRODUCT          NaN",
      "text/html": "<div>\n<style scoped>\n    .dataframe tbody tr th:only-of-type {\n        vertical-align: middle;\n    }\n\n    .dataframe tbody tr th {\n        vertical-align: top;\n    }\n\n    .dataframe thead th {\n        text-align: right;\n    }\n</style>\n<table border=\"1\" class=\"dataframe\">\n  <thead>\n    <tr style=\"text-align: right;\">\n      <th></th>\n      <th>user_id</th>\n      <th>product_id</th>\n      <th>event_type</th>\n      <th>purchase_id</th>\n    </tr>\n  </thead>\n  <tbody>\n    <tr>\n      <th>0</th>\n      <td>102.0</td>\n      <td>1277.0</td>\n      <td>VIEW_PRODUCT</td>\n      <td>NaN</td>\n    </tr>\n    <tr>\n      <th>1</th>\n      <td>102.0</td>\n      <td>1276.0</td>\n      <td>VIEW_PRODUCT</td>\n      <td>NaN</td>\n    </tr>\n    <tr>\n      <th>2</th>\n      <td>102.0</td>\n      <td>1276.0</td>\n      <td>BUY_PRODUCT</td>\n      <td>20001.0</td>\n    </tr>\n    <tr>\n      <th>3</th>\n      <td>102.0</td>\n      <td>1049.0</td>\n      <td>VIEW_PRODUCT</td>\n      <td>NaN</td>\n    </tr>\n    <tr>\n      <th>4</th>\n      <td>102.0</td>\n      <td>1050.0</td>\n      <td>VIEW_PRODUCT</td>\n      <td>NaN</td>\n    </tr>\n  </tbody>\n</table>\n</div>"
     },
     "metadata": {},
     "output_type": "execute_result",
     "execution_count": 179
    }
   ],
   "source": [
    "df = df.drop(labels=['timestamp', 'offered_discount', 'session_id'], axis=1)\n",
    "df.head()"
   ],
   "metadata": {
    "collapsed": false,
    "pycharm": {
     "name": "#%%\n",
     "is_executing": false
    }
   }
  },
  {
   "cell_type": "code",
   "execution_count": 180,
   "outputs": [
    {
     "data": {
      "text/plain": "    user_id  product_id  purchase_id\n2     102.0      1276.0      20001.0\n6     102.0      1048.0      20002.0\n10    102.0      1067.0      20003.0\n16    102.0      1316.0      20004.0\n19    102.0      1033.0      20005.0",
      "text/html": "<div>\n<style scoped>\n    .dataframe tbody tr th:only-of-type {\n        vertical-align: middle;\n    }\n\n    .dataframe tbody tr th {\n        vertical-align: top;\n    }\n\n    .dataframe thead th {\n        text-align: right;\n    }\n</style>\n<table border=\"1\" class=\"dataframe\">\n  <thead>\n    <tr style=\"text-align: right;\">\n      <th></th>\n      <th>user_id</th>\n      <th>product_id</th>\n      <th>purchase_id</th>\n    </tr>\n  </thead>\n  <tbody>\n    <tr>\n      <th>2</th>\n      <td>102.0</td>\n      <td>1276.0</td>\n      <td>20001.0</td>\n    </tr>\n    <tr>\n      <th>6</th>\n      <td>102.0</td>\n      <td>1048.0</td>\n      <td>20002.0</td>\n    </tr>\n    <tr>\n      <th>10</th>\n      <td>102.0</td>\n      <td>1067.0</td>\n      <td>20003.0</td>\n    </tr>\n    <tr>\n      <th>16</th>\n      <td>102.0</td>\n      <td>1316.0</td>\n      <td>20004.0</td>\n    </tr>\n    <tr>\n      <th>19</th>\n      <td>102.0</td>\n      <td>1033.0</td>\n      <td>20005.0</td>\n    </tr>\n  </tbody>\n</table>\n</div>"
     },
     "metadata": {},
     "output_type": "execute_result",
     "execution_count": 180
    }
   ],
   "source": [
    "option = ['BUY_PRODUCT']\n",
    "df = df[df['event_type'].isin(option)]\n",
    "df = df.drop(labels=['event_type'], axis=1)\n",
    "df.head()"
   ],
   "metadata": {
    "collapsed": false,
    "pycharm": {
     "name": "#%%\n",
     "is_executing": false
    }
   }
  },
  {
   "cell_type": "code",
   "execution_count": 181,
   "outputs": [],
   "source": [
    "df = df.dropna(subset=['user_id', 'purchase_id'])\n",
    "df.to_csv('sessions_preprocessed.csv', index=False)"
   ],
   "metadata": {
    "collapsed": false,
    "pycharm": {
     "name": "#%%\n",
     "is_executing": false
    }
   }
  },
  {
   "cell_type": "code",
   "execution_count": 182,
   "outputs": [
    {
     "data": {
      "text/plain": "   purchase_id   purchase_timestamp          delivery_timestamp  \\\n0        20001  2021-01-07T08:13:32  2021-01-10T17:01:58.118577   \n1        20002  2021-01-02T02:07:38  2021-01-04T06:44:02.125108   \n2        20003  2021-01-03T17:26:51  2021-01-07T19:23:07.707973   \n3        20004  2021-01-05T17:16:55  2021-01-07T15:21:38.391150   \n4        20005  2021-01-05T14:40:06  2021-01-08T13:15:22.984316   \n\n   delivery_company  \n0             360.0  \n1             516.0  \n2             360.0  \n3             516.0  \n4               NaN  ",
      "text/html": "<div>\n<style scoped>\n    .dataframe tbody tr th:only-of-type {\n        vertical-align: middle;\n    }\n\n    .dataframe tbody tr th {\n        vertical-align: top;\n    }\n\n    .dataframe thead th {\n        text-align: right;\n    }\n</style>\n<table border=\"1\" class=\"dataframe\">\n  <thead>\n    <tr style=\"text-align: right;\">\n      <th></th>\n      <th>purchase_id</th>\n      <th>purchase_timestamp</th>\n      <th>delivery_timestamp</th>\n      <th>delivery_company</th>\n    </tr>\n  </thead>\n  <tbody>\n    <tr>\n      <th>0</th>\n      <td>20001</td>\n      <td>2021-01-07T08:13:32</td>\n      <td>2021-01-10T17:01:58.118577</td>\n      <td>360.0</td>\n    </tr>\n    <tr>\n      <th>1</th>\n      <td>20002</td>\n      <td>2021-01-02T02:07:38</td>\n      <td>2021-01-04T06:44:02.125108</td>\n      <td>516.0</td>\n    </tr>\n    <tr>\n      <th>2</th>\n      <td>20003</td>\n      <td>2021-01-03T17:26:51</td>\n      <td>2021-01-07T19:23:07.707973</td>\n      <td>360.0</td>\n    </tr>\n    <tr>\n      <th>3</th>\n      <td>20004</td>\n      <td>2021-01-05T17:16:55</td>\n      <td>2021-01-07T15:21:38.391150</td>\n      <td>516.0</td>\n    </tr>\n    <tr>\n      <th>4</th>\n      <td>20005</td>\n      <td>2021-01-05T14:40:06</td>\n      <td>2021-01-08T13:15:22.984316</td>\n      <td>NaN</td>\n    </tr>\n  </tbody>\n</table>\n</div>"
     },
     "metadata": {},
     "output_type": "execute_result",
     "execution_count": 182
    }
   ],
   "source": [
    "df = pd.read_csv('./data/deliveries.csv')\n",
    "df.head()\n"
   ],
   "metadata": {
    "collapsed": false,
    "pycharm": {
     "name": "#%%\n",
     "is_executing": false
    }
   }
  },
  {
   "cell_type": "code",
   "execution_count": 183,
   "outputs": [
    {
     "data": {
      "text/plain": "   purchase_id   purchase_timestamp          delivery_timestamp  \\\n0        20001  2021-01-07T08:13:32  2021-01-10T17:01:58.118577   \n1        20002  2021-01-02T02:07:38  2021-01-04T06:44:02.125108   \n2        20003  2021-01-03T17:26:51  2021-01-07T19:23:07.707973   \n3        20004  2021-01-05T17:16:55  2021-01-07T15:21:38.391150   \n5        20006  2021-01-07T14:35:53  2021-01-10T08:09:09.974023   \n\n  delivery_company  \n0             C360  \n1             C516  \n2             C360  \n3             C516  \n5             C620  ",
      "text/html": "<div>\n<style scoped>\n    .dataframe tbody tr th:only-of-type {\n        vertical-align: middle;\n    }\n\n    .dataframe tbody tr th {\n        vertical-align: top;\n    }\n\n    .dataframe thead th {\n        text-align: right;\n    }\n</style>\n<table border=\"1\" class=\"dataframe\">\n  <thead>\n    <tr style=\"text-align: right;\">\n      <th></th>\n      <th>purchase_id</th>\n      <th>purchase_timestamp</th>\n      <th>delivery_timestamp</th>\n      <th>delivery_company</th>\n    </tr>\n  </thead>\n  <tbody>\n    <tr>\n      <th>0</th>\n      <td>20001</td>\n      <td>2021-01-07T08:13:32</td>\n      <td>2021-01-10T17:01:58.118577</td>\n      <td>C360</td>\n    </tr>\n    <tr>\n      <th>1</th>\n      <td>20002</td>\n      <td>2021-01-02T02:07:38</td>\n      <td>2021-01-04T06:44:02.125108</td>\n      <td>C516</td>\n    </tr>\n    <tr>\n      <th>2</th>\n      <td>20003</td>\n      <td>2021-01-03T17:26:51</td>\n      <td>2021-01-07T19:23:07.707973</td>\n      <td>C360</td>\n    </tr>\n    <tr>\n      <th>3</th>\n      <td>20004</td>\n      <td>2021-01-05T17:16:55</td>\n      <td>2021-01-07T15:21:38.391150</td>\n      <td>C516</td>\n    </tr>\n    <tr>\n      <th>5</th>\n      <td>20006</td>\n      <td>2021-01-07T14:35:53</td>\n      <td>2021-01-10T08:09:09.974023</td>\n      <td>C620</td>\n    </tr>\n  </tbody>\n</table>\n</div>"
     },
     "metadata": {},
     "output_type": "execute_result",
     "execution_count": 183
    }
   ],
   "source": [
    "def process_company(company):\n",
    "    return 'C' + str(int(company))\n",
    "\n",
    "df = df.dropna()\n",
    "df['delivery_company'] = df['delivery_company'].apply(process_company)\n",
    "df.head()"
   ],
   "metadata": {
    "collapsed": false,
    "pycharm": {
     "name": "#%%\n",
     "is_executing": false
    }
   }
  },
  {
   "cell_type": "code",
   "execution_count": 184,
   "outputs": [
    {
     "data": {
      "text/plain": "   purchase_id   purchase_timestamp   delivery_timestamp delivery_company\n0        20001  2021-01-07T08:13:32  2021-01-10T17:01:58             C360\n1        20002  2021-01-02T02:07:38  2021-01-04T06:44:02             C516\n2        20003  2021-01-03T17:26:51  2021-01-07T19:23:07             C360\n3        20004  2021-01-05T17:16:55  2021-01-07T15:21:38             C516\n5        20006  2021-01-07T14:35:53  2021-01-10T08:09:09             C620",
      "text/html": "<div>\n<style scoped>\n    .dataframe tbody tr th:only-of-type {\n        vertical-align: middle;\n    }\n\n    .dataframe tbody tr th {\n        vertical-align: top;\n    }\n\n    .dataframe thead th {\n        text-align: right;\n    }\n</style>\n<table border=\"1\" class=\"dataframe\">\n  <thead>\n    <tr style=\"text-align: right;\">\n      <th></th>\n      <th>purchase_id</th>\n      <th>purchase_timestamp</th>\n      <th>delivery_timestamp</th>\n      <th>delivery_company</th>\n    </tr>\n  </thead>\n  <tbody>\n    <tr>\n      <th>0</th>\n      <td>20001</td>\n      <td>2021-01-07T08:13:32</td>\n      <td>2021-01-10T17:01:58</td>\n      <td>C360</td>\n    </tr>\n    <tr>\n      <th>1</th>\n      <td>20002</td>\n      <td>2021-01-02T02:07:38</td>\n      <td>2021-01-04T06:44:02</td>\n      <td>C516</td>\n    </tr>\n    <tr>\n      <th>2</th>\n      <td>20003</td>\n      <td>2021-01-03T17:26:51</td>\n      <td>2021-01-07T19:23:07</td>\n      <td>C360</td>\n    </tr>\n    <tr>\n      <th>3</th>\n      <td>20004</td>\n      <td>2021-01-05T17:16:55</td>\n      <td>2021-01-07T15:21:38</td>\n      <td>C516</td>\n    </tr>\n    <tr>\n      <th>5</th>\n      <td>20006</td>\n      <td>2021-01-07T14:35:53</td>\n      <td>2021-01-10T08:09:09</td>\n      <td>C620</td>\n    </tr>\n  </tbody>\n</table>\n</div>"
     },
     "metadata": {},
     "output_type": "execute_result",
     "execution_count": 184
    }
   ],
   "source": [
    "def cut_milliseconds(date):\n",
    "    return date[0:-7]\n",
    "\n",
    "df['delivery_timestamp'] = df['delivery_timestamp'].apply(cut_milliseconds)\n",
    "\n",
    "df.head()"
   ],
   "metadata": {
    "collapsed": false,
    "pycharm": {
     "name": "#%%\n",
     "is_executing": false
    }
   }
  },
  {
   "cell_type": "code",
   "execution_count": 185,
   "outputs": [
    {
     "data": {
      "text/plain": "   purchase_id   purchase_timestamp   delivery_timestamp delivery_company  \\\n0        20001  2021-01-07T08:13:32  2021-01-10T17:01:58             C360   \n1        20002  2021-01-02T02:07:38  2021-01-04T06:44:02             C516   \n2        20003  2021-01-03T17:26:51  2021-01-07T19:23:07             C360   \n3        20004  2021-01-05T17:16:55  2021-01-07T15:21:38             C516   \n5        20006  2021-01-07T14:35:53  2021-01-10T08:09:09             C620   \n\n   purchase_month  purchase_day  purchase_hour purchase_weekday  \\\n0               1             7              8         Thursday   \n1               1             2              2         Saturday   \n2               1             3             17           Sunday   \n3               1             5             17          Tuesday   \n5               1             7             14         Thursday   \n\n   delivery_month  delivery_day  delivery_hour delivery_weekday  \n0               1            10             17           Sunday  \n1               1             4              6           Monday  \n2               1             7             19         Thursday  \n3               1             7             15         Thursday  \n5               1            10              8           Sunday  ",
      "text/html": "<div>\n<style scoped>\n    .dataframe tbody tr th:only-of-type {\n        vertical-align: middle;\n    }\n\n    .dataframe tbody tr th {\n        vertical-align: top;\n    }\n\n    .dataframe thead th {\n        text-align: right;\n    }\n</style>\n<table border=\"1\" class=\"dataframe\">\n  <thead>\n    <tr style=\"text-align: right;\">\n      <th></th>\n      <th>purchase_id</th>\n      <th>purchase_timestamp</th>\n      <th>delivery_timestamp</th>\n      <th>delivery_company</th>\n      <th>purchase_month</th>\n      <th>purchase_day</th>\n      <th>purchase_hour</th>\n      <th>purchase_weekday</th>\n      <th>delivery_month</th>\n      <th>delivery_day</th>\n      <th>delivery_hour</th>\n      <th>delivery_weekday</th>\n    </tr>\n  </thead>\n  <tbody>\n    <tr>\n      <th>0</th>\n      <td>20001</td>\n      <td>2021-01-07T08:13:32</td>\n      <td>2021-01-10T17:01:58</td>\n      <td>C360</td>\n      <td>1</td>\n      <td>7</td>\n      <td>8</td>\n      <td>Thursday</td>\n      <td>1</td>\n      <td>10</td>\n      <td>17</td>\n      <td>Sunday</td>\n    </tr>\n    <tr>\n      <th>1</th>\n      <td>20002</td>\n      <td>2021-01-02T02:07:38</td>\n      <td>2021-01-04T06:44:02</td>\n      <td>C516</td>\n      <td>1</td>\n      <td>2</td>\n      <td>2</td>\n      <td>Saturday</td>\n      <td>1</td>\n      <td>4</td>\n      <td>6</td>\n      <td>Monday</td>\n    </tr>\n    <tr>\n      <th>2</th>\n      <td>20003</td>\n      <td>2021-01-03T17:26:51</td>\n      <td>2021-01-07T19:23:07</td>\n      <td>C360</td>\n      <td>1</td>\n      <td>3</td>\n      <td>17</td>\n      <td>Sunday</td>\n      <td>1</td>\n      <td>7</td>\n      <td>19</td>\n      <td>Thursday</td>\n    </tr>\n    <tr>\n      <th>3</th>\n      <td>20004</td>\n      <td>2021-01-05T17:16:55</td>\n      <td>2021-01-07T15:21:38</td>\n      <td>C516</td>\n      <td>1</td>\n      <td>5</td>\n      <td>17</td>\n      <td>Tuesday</td>\n      <td>1</td>\n      <td>7</td>\n      <td>15</td>\n      <td>Thursday</td>\n    </tr>\n    <tr>\n      <th>5</th>\n      <td>20006</td>\n      <td>2021-01-07T14:35:53</td>\n      <td>2021-01-10T08:09:09</td>\n      <td>C620</td>\n      <td>1</td>\n      <td>7</td>\n      <td>14</td>\n      <td>Thursday</td>\n      <td>1</td>\n      <td>10</td>\n      <td>8</td>\n      <td>Sunday</td>\n    </tr>\n  </tbody>\n</table>\n</div>"
     },
     "metadata": {},
     "output_type": "execute_result",
     "execution_count": 185
    }
   ],
   "source": [
    "from datetime import datetime\n",
    "pattern = '%Y-%m-%dT%H:%M:%S'\n",
    "\n",
    "def get_month(row, column):\n",
    "    date: datetime = datetime.strptime(row[column], pattern)\n",
    "    return date.month\n",
    "\n",
    "\n",
    "def get_day(row, column):\n",
    "    date: datetime = datetime.strptime(row[column], pattern)\n",
    "    return date.day\n",
    "\n",
    "\n",
    "def get_hour(row, column):\n",
    "    date: datetime = datetime.strptime(row[column], pattern)\n",
    "    return date.hour\n",
    "\n",
    "def get_weekday(row, column):\n",
    "    date: datetime = datetime.strptime(row[column], pattern)\n",
    "    return date.strftime(\"%A\")\n",
    "\n",
    "df['purchase_month'] = df.apply(lambda row: get_month(row, 'purchase_timestamp'), axis=1)\n",
    "df['purchase_day'] = df.apply(lambda row: get_day(row, 'purchase_timestamp'), axis=1)\n",
    "df['purchase_hour'] = df.apply(lambda row: get_hour(row, 'purchase_timestamp'), axis=1)\n",
    "df['purchase_weekday'] = df.apply(lambda row: get_weekday(row, 'purchase_timestamp'), axis=1)\n",
    "\n",
    "df['delivery_month'] = df.apply(lambda row: get_month(row, 'delivery_timestamp'), axis=1)\n",
    "df['delivery_day'] = df.apply(lambda row: get_day(row, 'delivery_timestamp'), axis=1)\n",
    "df['delivery_hour'] = df.apply(lambda row: get_hour(row, 'delivery_timestamp'), axis=1)\n",
    "df['delivery_weekday'] = df.apply(lambda row: get_weekday(row, 'delivery_timestamp'), axis=1)\n",
    "\n",
    "df.head()"
   ],
   "metadata": {
    "collapsed": false,
    "pycharm": {
     "name": "#%%\n",
     "is_executing": false
    }
   }
  },
  {
   "cell_type": "code",
   "execution_count": 186,
   "outputs": [
    {
     "data": {
      "text/plain": "   purchase_id   purchase_timestamp   delivery_timestamp delivery_company  \\\n0        20001  2021-01-07T08:13:32  2021-01-10T17:01:58             C360   \n1        20002  2021-01-02T02:07:38  2021-01-04T06:44:02             C516   \n2        20003  2021-01-03T17:26:51  2021-01-07T19:23:07             C360   \n3        20004  2021-01-05T17:16:55  2021-01-07T15:21:38             C516   \n5        20006  2021-01-07T14:35:53  2021-01-10T08:09:09             C620   \n\n   purchase_month  purchase_day  purchase_hour purchase_weekday  \\\n0               1             7              8         Thursday   \n1               1             2              2         Saturday   \n2               1             3             17           Sunday   \n3               1             5             17          Tuesday   \n5               1             7             14         Thursday   \n\n   delivery_month  delivery_day  delivery_hour delivery_weekday  \\\n0               1            10             17           Sunday   \n1               1             4              6           Monday   \n2               1             7             19         Thursday   \n3               1             7             15         Thursday   \n5               1            10              8           Sunday   \n\n   shipping_time_in_hours  \n0                      80  \n1                      52  \n2                      97  \n3                      46  \n5                      65  ",
      "text/html": "<div>\n<style scoped>\n    .dataframe tbody tr th:only-of-type {\n        vertical-align: middle;\n    }\n\n    .dataframe tbody tr th {\n        vertical-align: top;\n    }\n\n    .dataframe thead th {\n        text-align: right;\n    }\n</style>\n<table border=\"1\" class=\"dataframe\">\n  <thead>\n    <tr style=\"text-align: right;\">\n      <th></th>\n      <th>purchase_id</th>\n      <th>purchase_timestamp</th>\n      <th>delivery_timestamp</th>\n      <th>delivery_company</th>\n      <th>purchase_month</th>\n      <th>purchase_day</th>\n      <th>purchase_hour</th>\n      <th>purchase_weekday</th>\n      <th>delivery_month</th>\n      <th>delivery_day</th>\n      <th>delivery_hour</th>\n      <th>delivery_weekday</th>\n      <th>shipping_time_in_hours</th>\n    </tr>\n  </thead>\n  <tbody>\n    <tr>\n      <th>0</th>\n      <td>20001</td>\n      <td>2021-01-07T08:13:32</td>\n      <td>2021-01-10T17:01:58</td>\n      <td>C360</td>\n      <td>1</td>\n      <td>7</td>\n      <td>8</td>\n      <td>Thursday</td>\n      <td>1</td>\n      <td>10</td>\n      <td>17</td>\n      <td>Sunday</td>\n      <td>80</td>\n    </tr>\n    <tr>\n      <th>1</th>\n      <td>20002</td>\n      <td>2021-01-02T02:07:38</td>\n      <td>2021-01-04T06:44:02</td>\n      <td>C516</td>\n      <td>1</td>\n      <td>2</td>\n      <td>2</td>\n      <td>Saturday</td>\n      <td>1</td>\n      <td>4</td>\n      <td>6</td>\n      <td>Monday</td>\n      <td>52</td>\n    </tr>\n    <tr>\n      <th>2</th>\n      <td>20003</td>\n      <td>2021-01-03T17:26:51</td>\n      <td>2021-01-07T19:23:07</td>\n      <td>C360</td>\n      <td>1</td>\n      <td>3</td>\n      <td>17</td>\n      <td>Sunday</td>\n      <td>1</td>\n      <td>7</td>\n      <td>19</td>\n      <td>Thursday</td>\n      <td>97</td>\n    </tr>\n    <tr>\n      <th>3</th>\n      <td>20004</td>\n      <td>2021-01-05T17:16:55</td>\n      <td>2021-01-07T15:21:38</td>\n      <td>C516</td>\n      <td>1</td>\n      <td>5</td>\n      <td>17</td>\n      <td>Tuesday</td>\n      <td>1</td>\n      <td>7</td>\n      <td>15</td>\n      <td>Thursday</td>\n      <td>46</td>\n    </tr>\n    <tr>\n      <th>5</th>\n      <td>20006</td>\n      <td>2021-01-07T14:35:53</td>\n      <td>2021-01-10T08:09:09</td>\n      <td>C620</td>\n      <td>1</td>\n      <td>7</td>\n      <td>14</td>\n      <td>Thursday</td>\n      <td>1</td>\n      <td>10</td>\n      <td>8</td>\n      <td>Sunday</td>\n      <td>65</td>\n    </tr>\n  </tbody>\n</table>\n</div>"
     },
     "metadata": {},
     "output_type": "execute_result",
     "execution_count": 186
    }
   ],
   "source": [
    "def extract_delivery_time_in_hours(row):\n",
    "    purchase: datetime = datetime.strptime(row['purchase_timestamp'], pattern)\n",
    "    delivery: datetime = datetime.strptime(row['delivery_timestamp'], pattern)\n",
    "    delivery_times = delivery - purchase\n",
    "    return int(delivery_times.total_seconds()/3600)\n",
    "\n",
    "df['shipping_time_in_hours'] = df.apply(lambda row: extract_delivery_time_in_hours(row), axis=1)\n",
    "positive = df['shipping_time_in_hours'] > 0\n",
    "df = df[positive]\n",
    "df.head()"
   ],
   "metadata": {
    "collapsed": false,
    "pycharm": {
     "name": "#%%\n",
     "is_executing": false
    }
   }
  },
  {
   "cell_type": "code",
   "execution_count": 187,
   "outputs": [
    {
     "data": {
      "text/plain": "   purchase_id delivery_company  purchase_month  purchase_day  purchase_hour  \\\n0        20001             C360               1             7              8   \n1        20002             C516               1             2              2   \n2        20003             C360               1             3             17   \n3        20004             C516               1             5             17   \n5        20006             C620               1             7             14   \n\n  purchase_weekday  delivery_month  delivery_day  delivery_hour  \\\n0         Thursday               1            10             17   \n1         Saturday               1             4              6   \n2           Sunday               1             7             19   \n3          Tuesday               1             7             15   \n5         Thursday               1            10              8   \n\n  delivery_weekday  shipping_time_in_hours  \n0           Sunday                      80  \n1           Monday                      52  \n2         Thursday                      97  \n3         Thursday                      46  \n5           Sunday                      65  ",
      "text/html": "<div>\n<style scoped>\n    .dataframe tbody tr th:only-of-type {\n        vertical-align: middle;\n    }\n\n    .dataframe tbody tr th {\n        vertical-align: top;\n    }\n\n    .dataframe thead th {\n        text-align: right;\n    }\n</style>\n<table border=\"1\" class=\"dataframe\">\n  <thead>\n    <tr style=\"text-align: right;\">\n      <th></th>\n      <th>purchase_id</th>\n      <th>delivery_company</th>\n      <th>purchase_month</th>\n      <th>purchase_day</th>\n      <th>purchase_hour</th>\n      <th>purchase_weekday</th>\n      <th>delivery_month</th>\n      <th>delivery_day</th>\n      <th>delivery_hour</th>\n      <th>delivery_weekday</th>\n      <th>shipping_time_in_hours</th>\n    </tr>\n  </thead>\n  <tbody>\n    <tr>\n      <th>0</th>\n      <td>20001</td>\n      <td>C360</td>\n      <td>1</td>\n      <td>7</td>\n      <td>8</td>\n      <td>Thursday</td>\n      <td>1</td>\n      <td>10</td>\n      <td>17</td>\n      <td>Sunday</td>\n      <td>80</td>\n    </tr>\n    <tr>\n      <th>1</th>\n      <td>20002</td>\n      <td>C516</td>\n      <td>1</td>\n      <td>2</td>\n      <td>2</td>\n      <td>Saturday</td>\n      <td>1</td>\n      <td>4</td>\n      <td>6</td>\n      <td>Monday</td>\n      <td>52</td>\n    </tr>\n    <tr>\n      <th>2</th>\n      <td>20003</td>\n      <td>C360</td>\n      <td>1</td>\n      <td>3</td>\n      <td>17</td>\n      <td>Sunday</td>\n      <td>1</td>\n      <td>7</td>\n      <td>19</td>\n      <td>Thursday</td>\n      <td>97</td>\n    </tr>\n    <tr>\n      <th>3</th>\n      <td>20004</td>\n      <td>C516</td>\n      <td>1</td>\n      <td>5</td>\n      <td>17</td>\n      <td>Tuesday</td>\n      <td>1</td>\n      <td>7</td>\n      <td>15</td>\n      <td>Thursday</td>\n      <td>46</td>\n    </tr>\n    <tr>\n      <th>5</th>\n      <td>20006</td>\n      <td>C620</td>\n      <td>1</td>\n      <td>7</td>\n      <td>14</td>\n      <td>Thursday</td>\n      <td>1</td>\n      <td>10</td>\n      <td>8</td>\n      <td>Sunday</td>\n      <td>65</td>\n    </tr>\n  </tbody>\n</table>\n</div>"
     },
     "metadata": {},
     "output_type": "execute_result",
     "execution_count": 187
    }
   ],
   "source": [
    "df = df.drop(labels=['delivery_timestamp', 'purchase_timestamp'], axis=1)\n",
    "df.to_csv('deliveries_preprocessed.csv', index=False)\n",
    "df.head()\n"
   ],
   "metadata": {
    "collapsed": false,
    "pycharm": {
     "name": "#%%\n",
     "is_executing": false
    }
   }
  }
 ],
 "metadata": {
  "kernelspec": {
   "display_name": "Python 3",
   "language": "python",
   "name": "python3"
  },
  "language_info": {
   "codemirror_mode": {
    "name": "ipython",
    "version": 2
   },
   "file_extension": ".py",
   "mimetype": "text/x-python",
   "name": "python",
   "nbconvert_exporter": "python",
   "pygments_lexer": "ipython2",
   "version": "2.7.6"
  },
  "pycharm": {
   "stem_cell": {
    "cell_type": "raw",
    "source": [],
    "metadata": {
     "collapsed": false
    }
   }
  }
 },
 "nbformat": 4,
 "nbformat_minor": 0
}